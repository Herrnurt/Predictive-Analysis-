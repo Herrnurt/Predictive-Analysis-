{
 "cells": [
  {
   "cell_type": "markdown",
   "metadata": {},
   "source": [
    "## Regression Task 1"
   ]
  },
  {
   "cell_type": "markdown",
   "metadata": {},
   "source": [
    "##  Prepare Problem\n"
   ]
  },
  {
   "cell_type": "code",
   "execution_count": 1,
   "metadata": {},
   "outputs": [],
   "source": [
    "# Load libraries\n",
    "import numpy as np # linear algebra\n",
    "import pandas as pd # data processing, CSV file I/O (e.g. pd.read_csv)\n",
    "import matplotlib.pyplot as plt # MATLAB-like way of plotting\n"
   ]
  },
  {
   "cell_type": "code",
   "execution_count": 2,
   "metadata": {},
   "outputs": [],
   "source": [
    "# sklearn package for machine learning in python:\n",
    "from sklearn.model_selection import train_test_split \n",
    "from sklearn.linear_model import LinearRegression\n",
    "from sklearn.datasets import make_regression\n",
    "from sklearn.metrics import mean_squared_error, r2_score\n",
    "from pandas import set_option"
   ]
  },
  {
   "cell_type": "code",
   "execution_count": 3,
   "metadata": {},
   "outputs": [],
   "source": [
    "# Load dataset\n",
    "house_price = pd.read_csv('houseprice_data.csv')"
   ]
  },
  {
   "cell_type": "markdown",
   "metadata": {},
   "source": [
    "## Summarize Data"
   ]
  },
  {
   "cell_type": "code",
   "execution_count": 4,
   "metadata": {},
   "outputs": [
    {
     "data": {
      "text/html": [
       "<div>\n",
       "<style scoped>\n",
       "    .dataframe tbody tr th:only-of-type {\n",
       "        vertical-align: middle;\n",
       "    }\n",
       "\n",
       "    .dataframe tbody tr th {\n",
       "        vertical-align: top;\n",
       "    }\n",
       "\n",
       "    .dataframe thead th {\n",
       "        text-align: right;\n",
       "    }\n",
       "</style>\n",
       "<table border=\"1\" class=\"dataframe\">\n",
       "  <thead>\n",
       "    <tr style=\"text-align: right;\">\n",
       "      <th></th>\n",
       "      <th>price</th>\n",
       "      <th>bedrooms</th>\n",
       "      <th>bathrooms</th>\n",
       "      <th>sqft_living</th>\n",
       "      <th>sqft_lot</th>\n",
       "      <th>floors</th>\n",
       "      <th>waterfront</th>\n",
       "      <th>view</th>\n",
       "      <th>condition</th>\n",
       "      <th>grade</th>\n",
       "      <th>sqft_above</th>\n",
       "      <th>sqft_basement</th>\n",
       "      <th>yr_built</th>\n",
       "      <th>yr_renovated</th>\n",
       "      <th>zipcode</th>\n",
       "      <th>lat</th>\n",
       "      <th>long</th>\n",
       "      <th>sqft_living15</th>\n",
       "      <th>sqft_lot15</th>\n",
       "    </tr>\n",
       "  </thead>\n",
       "  <tbody>\n",
       "    <tr>\n",
       "      <th>21608</th>\n",
       "      <td>360000.0</td>\n",
       "      <td>3</td>\n",
       "      <td>2.50</td>\n",
       "      <td>1530</td>\n",
       "      <td>1131</td>\n",
       "      <td>3.0</td>\n",
       "      <td>0</td>\n",
       "      <td>0</td>\n",
       "      <td>3</td>\n",
       "      <td>8</td>\n",
       "      <td>1530</td>\n",
       "      <td>0</td>\n",
       "      <td>2009</td>\n",
       "      <td>0</td>\n",
       "      <td>98103</td>\n",
       "      <td>47.6993</td>\n",
       "      <td>-122.346</td>\n",
       "      <td>1530</td>\n",
       "      <td>1509</td>\n",
       "    </tr>\n",
       "    <tr>\n",
       "      <th>21609</th>\n",
       "      <td>400000.0</td>\n",
       "      <td>4</td>\n",
       "      <td>2.50</td>\n",
       "      <td>2310</td>\n",
       "      <td>5813</td>\n",
       "      <td>2.0</td>\n",
       "      <td>0</td>\n",
       "      <td>0</td>\n",
       "      <td>3</td>\n",
       "      <td>8</td>\n",
       "      <td>2310</td>\n",
       "      <td>0</td>\n",
       "      <td>2014</td>\n",
       "      <td>0</td>\n",
       "      <td>98146</td>\n",
       "      <td>47.5107</td>\n",
       "      <td>-122.362</td>\n",
       "      <td>1830</td>\n",
       "      <td>7200</td>\n",
       "    </tr>\n",
       "    <tr>\n",
       "      <th>21610</th>\n",
       "      <td>402101.0</td>\n",
       "      <td>2</td>\n",
       "      <td>0.75</td>\n",
       "      <td>1020</td>\n",
       "      <td>1350</td>\n",
       "      <td>2.0</td>\n",
       "      <td>0</td>\n",
       "      <td>0</td>\n",
       "      <td>3</td>\n",
       "      <td>7</td>\n",
       "      <td>1020</td>\n",
       "      <td>0</td>\n",
       "      <td>2009</td>\n",
       "      <td>0</td>\n",
       "      <td>98144</td>\n",
       "      <td>47.5944</td>\n",
       "      <td>-122.299</td>\n",
       "      <td>1020</td>\n",
       "      <td>2007</td>\n",
       "    </tr>\n",
       "    <tr>\n",
       "      <th>21611</th>\n",
       "      <td>400000.0</td>\n",
       "      <td>3</td>\n",
       "      <td>2.50</td>\n",
       "      <td>1600</td>\n",
       "      <td>2388</td>\n",
       "      <td>2.0</td>\n",
       "      <td>0</td>\n",
       "      <td>0</td>\n",
       "      <td>3</td>\n",
       "      <td>8</td>\n",
       "      <td>1600</td>\n",
       "      <td>0</td>\n",
       "      <td>2004</td>\n",
       "      <td>0</td>\n",
       "      <td>98027</td>\n",
       "      <td>47.5345</td>\n",
       "      <td>-122.069</td>\n",
       "      <td>1410</td>\n",
       "      <td>1287</td>\n",
       "    </tr>\n",
       "    <tr>\n",
       "      <th>21612</th>\n",
       "      <td>325000.0</td>\n",
       "      <td>2</td>\n",
       "      <td>0.75</td>\n",
       "      <td>1020</td>\n",
       "      <td>1076</td>\n",
       "      <td>2.0</td>\n",
       "      <td>0</td>\n",
       "      <td>0</td>\n",
       "      <td>3</td>\n",
       "      <td>7</td>\n",
       "      <td>1020</td>\n",
       "      <td>0</td>\n",
       "      <td>2008</td>\n",
       "      <td>0</td>\n",
       "      <td>98144</td>\n",
       "      <td>47.5941</td>\n",
       "      <td>-122.299</td>\n",
       "      <td>1020</td>\n",
       "      <td>1357</td>\n",
       "    </tr>\n",
       "  </tbody>\n",
       "</table>\n",
       "</div>"
      ],
      "text/plain": [
       "          price  bedrooms  bathrooms  sqft_living  sqft_lot  floors  \\\n",
       "21608  360000.0         3       2.50         1530      1131     3.0   \n",
       "21609  400000.0         4       2.50         2310      5813     2.0   \n",
       "21610  402101.0         2       0.75         1020      1350     2.0   \n",
       "21611  400000.0         3       2.50         1600      2388     2.0   \n",
       "21612  325000.0         2       0.75         1020      1076     2.0   \n",
       "\n",
       "       waterfront  view  condition  grade  sqft_above  sqft_basement  \\\n",
       "21608           0     0          3      8        1530              0   \n",
       "21609           0     0          3      8        2310              0   \n",
       "21610           0     0          3      7        1020              0   \n",
       "21611           0     0          3      8        1600              0   \n",
       "21612           0     0          3      7        1020              0   \n",
       "\n",
       "       yr_built  yr_renovated  zipcode      lat     long  sqft_living15  \\\n",
       "21608      2009             0    98103  47.6993 -122.346           1530   \n",
       "21609      2014             0    98146  47.5107 -122.362           1830   \n",
       "21610      2009             0    98144  47.5944 -122.299           1020   \n",
       "21611      2004             0    98027  47.5345 -122.069           1410   \n",
       "21612      2008             0    98144  47.5941 -122.299           1020   \n",
       "\n",
       "       sqft_lot15  \n",
       "21608        1509  \n",
       "21609        7200  \n",
       "21610        2007  \n",
       "21611        1287  \n",
       "21612        1357  "
      ]
     },
     "metadata": {},
     "output_type": "display_data"
    }
   ],
   "source": [
    "# display dataset in rows and columns\n",
    "display(house_price.tail())\n",
    "\n"
   ]
  },
  {
   "cell_type": "code",
   "execution_count": 5,
   "metadata": {},
   "outputs": [
    {
     "data": {
      "text/plain": [
       "Index(['price', 'bedrooms', 'bathrooms', 'sqft_living', 'sqft_lot', 'floors',\n",
       "       'waterfront', 'view', 'condition', 'grade', 'sqft_above',\n",
       "       'sqft_basement', 'yr_built', 'yr_renovated', 'zipcode', 'lat', 'long',\n",
       "       'sqft_living15', 'sqft_lot15'],\n",
       "      dtype='object')"
      ]
     },
     "execution_count": 5,
     "metadata": {},
     "output_type": "execute_result"
    }
   ],
   "source": [
    "# list the column names\n",
    "house_price.columns"
   ]
  },
  {
   "cell_type": "markdown",
   "metadata": {},
   "source": [
    "## Descriptive statistics"
   ]
  },
  {
   "cell_type": "code",
   "execution_count": 6,
   "metadata": {},
   "outputs": [
    {
     "name": "stdout",
     "output_type": "stream",
     "text": [
      "         price  bedrooms  bathrooms  sqft_living  sqft_lot   floors  \\\n",
      "count  2.2e+04   21613.0    21613.0      21613.0   2.2e+04  21613.0   \n",
      "mean   5.4e+05       3.4        2.1       2079.9   1.5e+04      1.5   \n",
      "std    3.7e+05       0.9        0.8        918.4   4.1e+04      0.5   \n",
      "min    7.5e+04       0.0        0.0        290.0   5.2e+02      1.0   \n",
      "25%    3.2e+05       3.0        1.8       1427.0   5.0e+03      1.0   \n",
      "50%    4.5e+05       3.0        2.2       1910.0   7.6e+03      1.5   \n",
      "75%    6.4e+05       4.0        2.5       2550.0   1.1e+04      2.0   \n",
      "max    7.7e+06      33.0        8.0      13540.0   1.7e+06      3.5   \n",
      "\n",
      "       waterfront     view  condition    grade  sqft_above  sqft_basement  \\\n",
      "count     2.2e+04  21613.0    21613.0  21613.0     21613.0        21613.0   \n",
      "mean      7.5e-03      0.2        3.4      7.7      1788.4          291.5   \n",
      "std       8.7e-02      0.8        0.7      1.2       828.1          442.6   \n",
      "min       0.0e+00      0.0        1.0      1.0       290.0            0.0   \n",
      "25%       0.0e+00      0.0        3.0      7.0      1190.0            0.0   \n",
      "50%       0.0e+00      0.0        3.0      7.0      1560.0            0.0   \n",
      "75%       0.0e+00      0.0        4.0      8.0      2210.0          560.0   \n",
      "max       1.0e+00      4.0        5.0     13.0      9410.0         4820.0   \n",
      "\n",
      "       yr_built  yr_renovated  zipcode      lat     long  sqft_living15  \\\n",
      "count   21613.0       21613.0  21613.0  21613.0  21613.0        21613.0   \n",
      "mean     1971.0          84.4  98077.9     47.6   -122.2         1986.6   \n",
      "std        29.4         401.7     53.5      0.1      0.1          685.4   \n",
      "min      1900.0           0.0  98001.0     47.2   -122.5          399.0   \n",
      "25%      1951.0           0.0  98033.0     47.5   -122.3         1490.0   \n",
      "50%      1975.0           0.0  98065.0     47.6   -122.2         1840.0   \n",
      "75%      1997.0           0.0  98118.0     47.7   -122.1         2360.0   \n",
      "max      2015.0        2015.0  98199.0     47.8   -121.3         6210.0   \n",
      "\n",
      "       sqft_lot15  \n",
      "count     21613.0  \n",
      "mean      12768.5  \n",
      "std       27304.2  \n",
      "min         651.0  \n",
      "25%        5100.0  \n",
      "50%        7620.0  \n",
      "75%       10083.0  \n",
      "max      871200.0  \n"
     ]
    }
   ],
   "source": [
    "# descriptions\n",
    "set_option('precision', 1)\n",
    "print(house_price.describe())"
   ]
  },
  {
   "cell_type": "markdown",
   "metadata": {},
   "source": [
    "## Data Analysis"
   ]
  },
  {
   "cell_type": "code",
   "execution_count": 7,
   "metadata": {},
   "outputs": [
    {
     "name": "stdout",
     "output_type": "stream",
     "text": [
      "               price  bedrooms  bathrooms  sqft_living  sqft_lot  floors  \\\n",
      "price          1.000     0.308      0.525        0.702     0.090   0.257   \n",
      "bedrooms       0.308     1.000      0.516        0.577     0.032   0.175   \n",
      "bathrooms      0.525     0.516      1.000        0.755     0.088   0.501   \n",
      "sqft_living    0.702     0.577      0.755        1.000     0.173   0.354   \n",
      "sqft_lot       0.090     0.032      0.088        0.173     1.000  -0.005   \n",
      "floors         0.257     0.175      0.501        0.354    -0.005   1.000   \n",
      "waterfront     0.266    -0.007      0.064        0.104     0.022   0.024   \n",
      "view           0.397     0.080      0.188        0.285     0.075   0.029   \n",
      "condition      0.036     0.028     -0.125       -0.059    -0.009  -0.264   \n",
      "grade          0.667     0.357      0.665        0.763     0.114   0.458   \n",
      "sqft_above     0.606     0.478      0.685        0.877     0.184   0.524   \n",
      "sqft_basement  0.324     0.303      0.284        0.435     0.015  -0.246   \n",
      "yr_built       0.054     0.154      0.506        0.318     0.053   0.489   \n",
      "yr_renovated   0.126     0.019      0.051        0.055     0.008   0.006   \n",
      "zipcode       -0.053    -0.153     -0.204       -0.199    -0.130  -0.059   \n",
      "lat            0.307    -0.009      0.025        0.053    -0.086   0.050   \n",
      "long           0.022     0.129      0.223        0.240     0.230   0.125   \n",
      "sqft_living15  0.585     0.392      0.569        0.756     0.145   0.280   \n",
      "sqft_lot15     0.082     0.029      0.087        0.183     0.719  -0.011   \n",
      "\n",
      "               waterfront   view  condition  grade  sqft_above  sqft_basement  \\\n",
      "price               0.266  0.397      0.036  0.667   6.056e-01          0.324   \n",
      "bedrooms           -0.007  0.080      0.028  0.357   4.776e-01          0.303   \n",
      "bathrooms           0.064  0.188     -0.125  0.665   6.853e-01          0.284   \n",
      "sqft_living         0.104  0.285     -0.059  0.763   8.766e-01          0.435   \n",
      "sqft_lot            0.022  0.075     -0.009  0.114   1.835e-01          0.015   \n",
      "floors              0.024  0.029     -0.264  0.458   5.239e-01         -0.246   \n",
      "waterfront          1.000  0.402      0.017  0.083   7.207e-02          0.081   \n",
      "view                0.402  1.000      0.046  0.251   1.676e-01          0.277   \n",
      "condition           0.017  0.046      1.000 -0.145  -1.582e-01          0.174   \n",
      "grade               0.083  0.251     -0.145  1.000   7.559e-01          0.168   \n",
      "sqft_above          0.072  0.168     -0.158  0.756   1.000e+00         -0.052   \n",
      "sqft_basement       0.081  0.277      0.174  0.168  -5.194e-02          1.000   \n",
      "yr_built           -0.026 -0.053     -0.361  0.447   4.239e-01         -0.133   \n",
      "yr_renovated        0.093  0.104     -0.061  0.014   2.328e-02          0.071   \n",
      "zipcode             0.030  0.085      0.003 -0.185  -2.612e-01          0.075   \n",
      "lat                -0.014  0.006     -0.015  0.114  -8.165e-04          0.111   \n",
      "long               -0.042 -0.078     -0.107  0.198   3.438e-01         -0.145   \n",
      "sqft_living15       0.086  0.280     -0.093  0.713   7.319e-01          0.200   \n",
      "sqft_lot15          0.031  0.073     -0.003  0.119   1.940e-01          0.017   \n",
      "\n",
      "               yr_built  yr_renovated  zipcode        lat   long  \\\n",
      "price             0.054         0.126   -0.053  3.069e-01  0.022   \n",
      "bedrooms          0.154         0.019   -0.153 -8.931e-03  0.129   \n",
      "bathrooms         0.506         0.051   -0.204  2.457e-02  0.223   \n",
      "sqft_living       0.318         0.055   -0.199  5.253e-02  0.240   \n",
      "sqft_lot          0.053         0.008   -0.130 -8.568e-02  0.230   \n",
      "floors            0.489         0.006   -0.059  4.961e-02  0.125   \n",
      "waterfront       -0.026         0.093    0.030 -1.427e-02 -0.042   \n",
      "view             -0.053         0.104    0.085  6.157e-03 -0.078   \n",
      "condition        -0.361        -0.061    0.003 -1.494e-02 -0.107   \n",
      "grade             0.447         0.014   -0.185  1.141e-01  0.198   \n",
      "sqft_above        0.424         0.023   -0.261 -8.165e-04  0.344   \n",
      "sqft_basement    -0.133         0.071    0.075  1.105e-01 -0.145   \n",
      "yr_built          1.000        -0.225   -0.347 -1.481e-01  0.409   \n",
      "yr_renovated     -0.225         1.000    0.064  2.940e-02 -0.068   \n",
      "zipcode          -0.347         0.064    1.000  2.670e-01 -0.564   \n",
      "lat              -0.148         0.029    0.267  1.000e+00 -0.136   \n",
      "long              0.409        -0.068   -0.564 -1.355e-01  1.000   \n",
      "sqft_living15     0.326        -0.003   -0.279  4.886e-02  0.335   \n",
      "sqft_lot15        0.071         0.008   -0.147 -8.642e-02  0.254   \n",
      "\n",
      "               sqft_living15  sqft_lot15  \n",
      "price                  0.585       0.082  \n",
      "bedrooms               0.392       0.029  \n",
      "bathrooms              0.569       0.087  \n",
      "sqft_living            0.756       0.183  \n",
      "sqft_lot               0.145       0.719  \n",
      "floors                 0.280      -0.011  \n",
      "waterfront             0.086       0.031  \n",
      "view                   0.280       0.073  \n",
      "condition             -0.093      -0.003  \n",
      "grade                  0.713       0.119  \n",
      "sqft_above             0.732       0.194  \n",
      "sqft_basement          0.200       0.017  \n",
      "yr_built               0.326       0.071  \n",
      "yr_renovated          -0.003       0.008  \n",
      "zipcode               -0.279      -0.147  \n",
      "lat                    0.049      -0.086  \n",
      "long                   0.335       0.254  \n",
      "sqft_living15          1.000       0.183  \n",
      "sqft_lot15             0.183       1.000  \n"
     ]
    }
   ],
   "source": [
    "# correlation\n",
    "set_option('precision', 3)\n",
    "print(house_price.corr(method='pearson'))\n",
    "\n",
    "# Considering attributes that are strongly correlated to price\n",
    "# Using values not less that 0.25 to select the attributes that are strongly correlated to price ,\n",
    "# Attributes that are strongly correlated with price are :\n",
    "# bedrooms,bathrooms,sqft_living,floors, waterfront,view,condition,grade,sqft_basement  \n"
   ]
  },
  {
   "cell_type": "code",
   "execution_count": 8,
   "metadata": {},
   "outputs": [],
   "source": [
    "\n",
    "house_price_df=house_price.drop(['sqft_lot','sqft_above','yr_built','yr_renovated','zipcode','lat','long','sqft_living15','sqft_lot15'],axis=1)"
   ]
  },
  {
   "cell_type": "code",
   "execution_count": 9,
   "metadata": {},
   "outputs": [
    {
     "data": {
      "text/html": [
       "<div>\n",
       "<style scoped>\n",
       "    .dataframe tbody tr th:only-of-type {\n",
       "        vertical-align: middle;\n",
       "    }\n",
       "\n",
       "    .dataframe tbody tr th {\n",
       "        vertical-align: top;\n",
       "    }\n",
       "\n",
       "    .dataframe thead th {\n",
       "        text-align: right;\n",
       "    }\n",
       "</style>\n",
       "<table border=\"1\" class=\"dataframe\">\n",
       "  <thead>\n",
       "    <tr style=\"text-align: right;\">\n",
       "      <th></th>\n",
       "      <th>price</th>\n",
       "      <th>bedrooms</th>\n",
       "      <th>bathrooms</th>\n",
       "      <th>sqft_living</th>\n",
       "      <th>floors</th>\n",
       "      <th>waterfront</th>\n",
       "      <th>view</th>\n",
       "      <th>condition</th>\n",
       "      <th>grade</th>\n",
       "      <th>sqft_basement</th>\n",
       "    </tr>\n",
       "  </thead>\n",
       "  <tbody>\n",
       "    <tr>\n",
       "      <th>0</th>\n",
       "      <td>221900.0</td>\n",
       "      <td>3</td>\n",
       "      <td>1.00</td>\n",
       "      <td>1180</td>\n",
       "      <td>1.0</td>\n",
       "      <td>0</td>\n",
       "      <td>0</td>\n",
       "      <td>3</td>\n",
       "      <td>7</td>\n",
       "      <td>0</td>\n",
       "    </tr>\n",
       "    <tr>\n",
       "      <th>1</th>\n",
       "      <td>538000.0</td>\n",
       "      <td>3</td>\n",
       "      <td>2.25</td>\n",
       "      <td>2570</td>\n",
       "      <td>2.0</td>\n",
       "      <td>0</td>\n",
       "      <td>0</td>\n",
       "      <td>3</td>\n",
       "      <td>7</td>\n",
       "      <td>400</td>\n",
       "    </tr>\n",
       "    <tr>\n",
       "      <th>2</th>\n",
       "      <td>180000.0</td>\n",
       "      <td>2</td>\n",
       "      <td>1.00</td>\n",
       "      <td>770</td>\n",
       "      <td>1.0</td>\n",
       "      <td>0</td>\n",
       "      <td>0</td>\n",
       "      <td>3</td>\n",
       "      <td>6</td>\n",
       "      <td>0</td>\n",
       "    </tr>\n",
       "    <tr>\n",
       "      <th>3</th>\n",
       "      <td>604000.0</td>\n",
       "      <td>4</td>\n",
       "      <td>3.00</td>\n",
       "      <td>1960</td>\n",
       "      <td>1.0</td>\n",
       "      <td>0</td>\n",
       "      <td>0</td>\n",
       "      <td>5</td>\n",
       "      <td>7</td>\n",
       "      <td>910</td>\n",
       "    </tr>\n",
       "    <tr>\n",
       "      <th>4</th>\n",
       "      <td>510000.0</td>\n",
       "      <td>3</td>\n",
       "      <td>2.00</td>\n",
       "      <td>1680</td>\n",
       "      <td>1.0</td>\n",
       "      <td>0</td>\n",
       "      <td>0</td>\n",
       "      <td>3</td>\n",
       "      <td>8</td>\n",
       "      <td>0</td>\n",
       "    </tr>\n",
       "  </tbody>\n",
       "</table>\n",
       "</div>"
      ],
      "text/plain": [
       "      price  bedrooms  bathrooms  sqft_living  floors  waterfront  view  \\\n",
       "0  221900.0         3       1.00         1180     1.0           0     0   \n",
       "1  538000.0         3       2.25         2570     2.0           0     0   \n",
       "2  180000.0         2       1.00          770     1.0           0     0   \n",
       "3  604000.0         4       3.00         1960     1.0           0     0   \n",
       "4  510000.0         3       2.00         1680     1.0           0     0   \n",
       "\n",
       "   condition  grade  sqft_basement  \n",
       "0          3      7              0  \n",
       "1          3      7            400  \n",
       "2          3      6              0  \n",
       "3          5      7            910  \n",
       "4          3      8              0  "
      ]
     },
     "execution_count": 9,
     "metadata": {},
     "output_type": "execute_result"
    }
   ],
   "source": [
    "house_price_df.head()"
   ]
  },
  {
   "cell_type": "code",
   "execution_count": 10,
   "metadata": {},
   "outputs": [],
   "source": [
    "# split the dataset between X and y\n",
    "# column 1 to column 9 goes to X\n",
    "# column 0 goes to y,in pandas 0 begins counting \n",
    "\n",
    "data = house_price_df.values\n",
    "X= data[:,1:9]\n",
    "y =data[:,0]"
   ]
  },
  {
   "cell_type": "code",
   "execution_count": 11,
   "metadata": {},
   "outputs": [],
   "source": [
    "# split the data into training and test sets:\n",
    "X_train, X_test, y_train, y_test = train_test_split(X, y, test_size= 1/3, random_state=0)"
   ]
  },
  {
   "cell_type": "code",
   "execution_count": 19,
   "metadata": {},
   "outputs": [
    {
     "data": {
      "text/plain": [
       "LinearRegression()"
      ]
     },
     "execution_count": 19,
     "metadata": {},
     "output_type": "execute_result"
    }
   ],
   "source": [
    "# fit the linear least-squres regression line to the training data:\n",
    "regr = LinearRegression()\n",
    "regr.fit(X_train, y_train)"
   ]
  },
  {
   "cell_type": "code",
   "execution_count": 13,
   "metadata": {},
   "outputs": [
    {
     "name": "stdout",
     "output_type": "stream",
     "text": [
      "Coefficients:  [-2.55896995e+04 -1.44711642e+04  1.79868159e+02 -6.93629616e+03\n",
      "  6.15071895e+05  6.27212981e+04  5.79747982e+04  1.02884487e+05]\n",
      "Intercept:  -711395.620268748\n",
      "Mean squared error: 58746875703.93355560\n",
      "Coefficient of determination: 0.59\n"
     ]
    }
   ],
   "source": [
    "# The coefficients\n",
    "print('Coefficients: ', regr.coef_)\n",
    "\n",
    "# The intercept\n",
    "print('Intercept: ', regr.intercept_)\n",
    "\n",
    "# The mean squared error\n",
    "print('Mean squared error: %.8f' % mean_squared_error(y_test, regr.predict(X_test)))\n",
    "\n",
    "# The R^2 value:\n",
    "print('Coefficient of determination: %.2f' % r2_score(y_test, regr.predict(X_test)))"
   ]
  },
  {
   "cell_type": "markdown",
   "metadata": {},
   "source": [
    "## Inclusion of many features"
   ]
  },
  {
   "cell_type": "code",
   "execution_count": 14,
   "metadata": {},
   "outputs": [],
   "source": [
    "# split the dataset between X and y\n",
    "# column 1 to column 19 goes to X\n",
    "# column 0 goes to y,in pandas 0 begins counting \n",
    "data2 = house_price.values\n",
    "X_new= data2[:,1:19]\n",
    "y_new =data2[:,0]"
   ]
  },
  {
   "cell_type": "code",
   "execution_count": 15,
   "metadata": {},
   "outputs": [],
   "source": [
    "# split the data into training and test sets:\n",
    "X_new_train, X_new_test, y_new_train, y_new_test = train_test_split(X_new, y_new, test_size= 1/3, random_state=0)"
   ]
  },
  {
   "cell_type": "code",
   "execution_count": 16,
   "metadata": {},
   "outputs": [
    {
     "data": {
      "text/plain": [
       "LinearRegression()"
      ]
     },
     "execution_count": 16,
     "metadata": {},
     "output_type": "execute_result"
    }
   ],
   "source": [
    "# fit the linear least-squres regression line to the training data:\n",
    "regr = LinearRegression()\n",
    "regr.fit(X_new_train, y_new_train)"
   ]
  },
  {
   "cell_type": "code",
   "execution_count": 17,
   "metadata": {},
   "outputs": [
    {
     "name": "stdout",
     "output_type": "stream",
     "text": [
      "Coefficients:  [-2.90159750e+04  3.62350707e+04  1.00277487e+02  2.60557590e-01\n",
      "  1.20714321e+04  6.23902318e+05  5.24545624e+04  2.84274069e+04\n",
      "  9.62392553e+04  6.32953609e+01  3.69821263e+01 -2.53449507e+03\n",
      "  1.30628298e+01 -5.13110492e+02  6.08507465e+05 -2.07692124e+05\n",
      "  3.36366489e+01 -4.85347802e-01]\n",
      "Intercept:  290782.7101999346\n",
      "Mean squared error: 45437269303.41967010\n",
      "Coefficient of determination: 0.69\n"
     ]
    }
   ],
   "source": [
    "# The coefficients\n",
    "print('Coefficients: ', regr.coef_)\n",
    "\n",
    "# The intercept\n",
    "print('Intercept: ', regr.intercept_)\n",
    "\n",
    "# The mean squared error\n",
    "print('Mean squared error: %.8f' % mean_squared_error(y_new_test, regr.predict(X_new_test)))\n",
    "\n",
    "# The R^2 value:\n",
    "print('Coefficient of determination: %.2f' % r2_score(y_new_test, regr.predict(X_new_test)))"
   ]
  },
  {
   "cell_type": "markdown",
   "metadata": {},
   "source": [
    "## A way of visualising the Datasets"
   ]
  },
  {
   "cell_type": "code",
   "execution_count": null,
   "metadata": {},
   "outputs": [],
   "source": []
  }
 ],
 "metadata": {
  "kernelspec": {
   "display_name": "Python 3",
   "language": "python",
   "name": "python3"
  },
  "language_info": {
   "codemirror_mode": {
    "name": "ipython",
    "version": 3
   },
   "file_extension": ".py",
   "mimetype": "text/x-python",
   "name": "python",
   "nbconvert_exporter": "python",
   "pygments_lexer": "ipython3",
   "version": "3.7.6"
  }
 },
 "nbformat": 4,
 "nbformat_minor": 4
}
