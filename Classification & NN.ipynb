{
 "cells": [
  {
   "cell_type": "markdown",
   "metadata": {},
   "source": [
    "## Classification & Neural Networks"
   ]
  },
  {
   "cell_type": "markdown",
   "metadata": {},
   "source": [
    "## Prepare Data"
   ]
  },
  {
   "cell_type": "code",
   "execution_count": 1,
   "metadata": {},
   "outputs": [],
   "source": [
    "# Load libraries\n",
    "import numpy as np                             # linear algebra\n",
    "import pandas as pd                            # data processing, CSV file I/O (e.g. pd.read_csv)\n",
    "import matplotlib.pyplot as plt                # MATLAB-like way of plotting\n",
    "\n",
    "from pandas import set_option"
   ]
  },
  {
   "cell_type": "code",
   "execution_count": 2,
   "metadata": {},
   "outputs": [],
   "source": [
    "# Load dataset\n",
    "nba_rookie_data = pd.read_csv('nba_rookie_data.csv')"
   ]
  },
  {
   "cell_type": "markdown",
   "metadata": {},
   "source": [
    "## Summarize Data"
   ]
  },
  {
   "cell_type": "code",
   "execution_count": 3,
   "metadata": {},
   "outputs": [
    {
     "data": {
      "text/html": [
       "<div>\n",
       "<style scoped>\n",
       "    .dataframe tbody tr th:only-of-type {\n",
       "        vertical-align: middle;\n",
       "    }\n",
       "\n",
       "    .dataframe tbody tr th {\n",
       "        vertical-align: top;\n",
       "    }\n",
       "\n",
       "    .dataframe thead th {\n",
       "        text-align: right;\n",
       "    }\n",
       "</style>\n",
       "<table border=\"1\" class=\"dataframe\">\n",
       "  <thead>\n",
       "    <tr style=\"text-align: right;\">\n",
       "      <th></th>\n",
       "      <th>Name</th>\n",
       "      <th>Games Played</th>\n",
       "      <th>Minutes Played</th>\n",
       "      <th>Points Per Game</th>\n",
       "      <th>Field Goals Made</th>\n",
       "      <th>Field Goal Attempts</th>\n",
       "      <th>Field Goal Percent</th>\n",
       "      <th>3 Point Made</th>\n",
       "      <th>3 Point Attempt</th>\n",
       "      <th>3 Point Percent</th>\n",
       "      <th>...</th>\n",
       "      <th>Free Throw Attempts</th>\n",
       "      <th>Free Throw Percent</th>\n",
       "      <th>Offensive Rebounds</th>\n",
       "      <th>Defensive Rebounds</th>\n",
       "      <th>Rebounds</th>\n",
       "      <th>Assists</th>\n",
       "      <th>Steals</th>\n",
       "      <th>Blocks</th>\n",
       "      <th>Turnovers</th>\n",
       "      <th>TARGET_5Yrs</th>\n",
       "    </tr>\n",
       "  </thead>\n",
       "  <tbody>\n",
       "    <tr>\n",
       "      <th>0</th>\n",
       "      <td>Brandon Ingram</td>\n",
       "      <td>36</td>\n",
       "      <td>27.4</td>\n",
       "      <td>7.4</td>\n",
       "      <td>2.6</td>\n",
       "      <td>7.6</td>\n",
       "      <td>34.7</td>\n",
       "      <td>0.5</td>\n",
       "      <td>2.1</td>\n",
       "      <td>25.0</td>\n",
       "      <td>...</td>\n",
       "      <td>2.3</td>\n",
       "      <td>69.9</td>\n",
       "      <td>0.7</td>\n",
       "      <td>3.4</td>\n",
       "      <td>4.1</td>\n",
       "      <td>1.9</td>\n",
       "      <td>0.4</td>\n",
       "      <td>0.4</td>\n",
       "      <td>1.3</td>\n",
       "      <td>0</td>\n",
       "    </tr>\n",
       "    <tr>\n",
       "      <th>1</th>\n",
       "      <td>Andrew Harrison</td>\n",
       "      <td>35</td>\n",
       "      <td>26.9</td>\n",
       "      <td>7.2</td>\n",
       "      <td>2.0</td>\n",
       "      <td>6.7</td>\n",
       "      <td>29.6</td>\n",
       "      <td>0.7</td>\n",
       "      <td>2.8</td>\n",
       "      <td>23.5</td>\n",
       "      <td>...</td>\n",
       "      <td>3.4</td>\n",
       "      <td>76.5</td>\n",
       "      <td>0.5</td>\n",
       "      <td>2.0</td>\n",
       "      <td>2.4</td>\n",
       "      <td>3.7</td>\n",
       "      <td>1.1</td>\n",
       "      <td>0.5</td>\n",
       "      <td>1.6</td>\n",
       "      <td>0</td>\n",
       "    </tr>\n",
       "    <tr>\n",
       "      <th>2</th>\n",
       "      <td>JaKarr Sampson</td>\n",
       "      <td>74</td>\n",
       "      <td>15.3</td>\n",
       "      <td>5.2</td>\n",
       "      <td>2.0</td>\n",
       "      <td>4.7</td>\n",
       "      <td>42.2</td>\n",
       "      <td>0.4</td>\n",
       "      <td>1.7</td>\n",
       "      <td>24.4</td>\n",
       "      <td>...</td>\n",
       "      <td>1.3</td>\n",
       "      <td>67.0</td>\n",
       "      <td>0.5</td>\n",
       "      <td>1.7</td>\n",
       "      <td>2.2</td>\n",
       "      <td>1.0</td>\n",
       "      <td>0.5</td>\n",
       "      <td>0.3</td>\n",
       "      <td>1.0</td>\n",
       "      <td>0</td>\n",
       "    </tr>\n",
       "    <tr>\n",
       "      <th>3</th>\n",
       "      <td>Malik Sealy</td>\n",
       "      <td>58</td>\n",
       "      <td>11.6</td>\n",
       "      <td>5.7</td>\n",
       "      <td>2.3</td>\n",
       "      <td>5.5</td>\n",
       "      <td>42.6</td>\n",
       "      <td>0.1</td>\n",
       "      <td>0.5</td>\n",
       "      <td>22.6</td>\n",
       "      <td>...</td>\n",
       "      <td>1.3</td>\n",
       "      <td>68.9</td>\n",
       "      <td>1.0</td>\n",
       "      <td>0.9</td>\n",
       "      <td>1.9</td>\n",
       "      <td>0.8</td>\n",
       "      <td>0.6</td>\n",
       "      <td>0.1</td>\n",
       "      <td>1.0</td>\n",
       "      <td>1</td>\n",
       "    </tr>\n",
       "    <tr>\n",
       "      <th>4</th>\n",
       "      <td>Matt Geiger</td>\n",
       "      <td>48</td>\n",
       "      <td>11.5</td>\n",
       "      <td>4.5</td>\n",
       "      <td>1.6</td>\n",
       "      <td>3.0</td>\n",
       "      <td>52.4</td>\n",
       "      <td>0.0</td>\n",
       "      <td>0.1</td>\n",
       "      <td>0.0</td>\n",
       "      <td>...</td>\n",
       "      <td>1.9</td>\n",
       "      <td>67.4</td>\n",
       "      <td>1.0</td>\n",
       "      <td>1.5</td>\n",
       "      <td>2.5</td>\n",
       "      <td>0.3</td>\n",
       "      <td>0.3</td>\n",
       "      <td>0.4</td>\n",
       "      <td>0.8</td>\n",
       "      <td>1</td>\n",
       "    </tr>\n",
       "  </tbody>\n",
       "</table>\n",
       "<p>5 rows × 21 columns</p>\n",
       "</div>"
      ],
      "text/plain": [
       "              Name  Games Played  Minutes Played  Points Per Game  \\\n",
       "0   Brandon Ingram            36            27.4              7.4   \n",
       "1  Andrew Harrison            35            26.9              7.2   \n",
       "2   JaKarr Sampson            74            15.3              5.2   \n",
       "3      Malik Sealy            58            11.6              5.7   \n",
       "4      Matt Geiger            48            11.5              4.5   \n",
       "\n",
       "   Field Goals Made  Field Goal Attempts  Field Goal Percent  3 Point Made  \\\n",
       "0               2.6                  7.6                34.7           0.5   \n",
       "1               2.0                  6.7                29.6           0.7   \n",
       "2               2.0                  4.7                42.2           0.4   \n",
       "3               2.3                  5.5                42.6           0.1   \n",
       "4               1.6                  3.0                52.4           0.0   \n",
       "\n",
       "   3 Point Attempt  3 Point Percent  ...  Free Throw Attempts  \\\n",
       "0              2.1             25.0  ...                  2.3   \n",
       "1              2.8             23.5  ...                  3.4   \n",
       "2              1.7             24.4  ...                  1.3   \n",
       "3              0.5             22.6  ...                  1.3   \n",
       "4              0.1              0.0  ...                  1.9   \n",
       "\n",
       "   Free Throw Percent  Offensive Rebounds  Defensive Rebounds  Rebounds  \\\n",
       "0                69.9                 0.7                 3.4       4.1   \n",
       "1                76.5                 0.5                 2.0       2.4   \n",
       "2                67.0                 0.5                 1.7       2.2   \n",
       "3                68.9                 1.0                 0.9       1.9   \n",
       "4                67.4                 1.0                 1.5       2.5   \n",
       "\n",
       "   Assists  Steals  Blocks  Turnovers  TARGET_5Yrs  \n",
       "0      1.9     0.4     0.4        1.3            0  \n",
       "1      3.7     1.1     0.5        1.6            0  \n",
       "2      1.0     0.5     0.3        1.0            0  \n",
       "3      0.8     0.6     0.1        1.0            1  \n",
       "4      0.3     0.3     0.4        0.8            1  \n",
       "\n",
       "[5 rows x 21 columns]"
      ]
     },
     "metadata": {},
     "output_type": "display_data"
    },
    {
     "data": {
      "text/plain": [
       "(1340, 21)"
      ]
     },
     "execution_count": 3,
     "metadata": {},
     "output_type": "execute_result"
    }
   ],
   "source": [
    "# display dataset in rows and columns\n",
    "display(nba_rookie_data.head())\n",
    "\n",
    "# display number of rows and columns\n",
    "nba_rookie_data.shape"
   ]
  },
  {
   "cell_type": "code",
   "execution_count": 4,
   "metadata": {},
   "outputs": [
    {
     "data": {
      "text/plain": [
       "Index(['Name', 'Games Played', 'Minutes Played', 'Points Per Game',\n",
       "       'Field Goals Made', 'Field Goal Attempts', 'Field Goal Percent',\n",
       "       '3 Point Made', '3 Point Attempt', '3 Point Percent', 'Free Throw Made',\n",
       "       'Free Throw Attempts', 'Free Throw Percent', 'Offensive Rebounds',\n",
       "       'Defensive Rebounds', 'Rebounds', 'Assists', 'Steals', 'Blocks',\n",
       "       'Turnovers', 'TARGET_5Yrs'],\n",
       "      dtype='object')"
      ]
     },
     "execution_count": 4,
     "metadata": {},
     "output_type": "execute_result"
    }
   ],
   "source": [
    "# list the column names\n",
    "nba_rookie_data.columns"
   ]
  },
  {
   "cell_type": "markdown",
   "metadata": {},
   "source": [
    "## Descriptive statistics"
   ]
  },
  {
   "cell_type": "code",
   "execution_count": 5,
   "metadata": {},
   "outputs": [
    {
     "data": {
      "text/html": [
       "<div>\n",
       "<style scoped>\n",
       "    .dataframe tbody tr th:only-of-type {\n",
       "        vertical-align: middle;\n",
       "    }\n",
       "\n",
       "    .dataframe tbody tr th {\n",
       "        vertical-align: top;\n",
       "    }\n",
       "\n",
       "    .dataframe thead th {\n",
       "        text-align: right;\n",
       "    }\n",
       "</style>\n",
       "<table border=\"1\" class=\"dataframe\">\n",
       "  <thead>\n",
       "    <tr style=\"text-align: right;\">\n",
       "      <th></th>\n",
       "      <th>Games Played</th>\n",
       "      <th>Minutes Played</th>\n",
       "      <th>Points Per Game</th>\n",
       "      <th>Field Goals Made</th>\n",
       "      <th>Field Goal Attempts</th>\n",
       "      <th>Field Goal Percent</th>\n",
       "      <th>3 Point Made</th>\n",
       "      <th>3 Point Attempt</th>\n",
       "      <th>3 Point Percent</th>\n",
       "      <th>Free Throw Made</th>\n",
       "      <th>Free Throw Attempts</th>\n",
       "      <th>Free Throw Percent</th>\n",
       "      <th>Offensive Rebounds</th>\n",
       "      <th>Defensive Rebounds</th>\n",
       "      <th>Rebounds</th>\n",
       "      <th>Assists</th>\n",
       "      <th>Steals</th>\n",
       "      <th>Blocks</th>\n",
       "      <th>Turnovers</th>\n",
       "      <th>TARGET_5Yrs</th>\n",
       "    </tr>\n",
       "  </thead>\n",
       "  <tbody>\n",
       "    <tr>\n",
       "      <th>count</th>\n",
       "      <td>1340.0</td>\n",
       "      <td>1340.0</td>\n",
       "      <td>1340.0</td>\n",
       "      <td>1340.0</td>\n",
       "      <td>1340.0</td>\n",
       "      <td>1340.0</td>\n",
       "      <td>1340.0</td>\n",
       "      <td>1340.0</td>\n",
       "      <td>1329.0</td>\n",
       "      <td>1340.0</td>\n",
       "      <td>1340.0</td>\n",
       "      <td>1340.0</td>\n",
       "      <td>1340.0</td>\n",
       "      <td>1340.0</td>\n",
       "      <td>1340.0</td>\n",
       "      <td>1340.0</td>\n",
       "      <td>1340.0</td>\n",
       "      <td>1340.0</td>\n",
       "      <td>1340.0</td>\n",
       "      <td>1340.0</td>\n",
       "    </tr>\n",
       "    <tr>\n",
       "      <th>mean</th>\n",
       "      <td>60.4</td>\n",
       "      <td>17.6</td>\n",
       "      <td>6.8</td>\n",
       "      <td>2.6</td>\n",
       "      <td>5.9</td>\n",
       "      <td>44.2</td>\n",
       "      <td>0.2</td>\n",
       "      <td>0.8</td>\n",
       "      <td>19.3</td>\n",
       "      <td>1.3</td>\n",
       "      <td>1.8</td>\n",
       "      <td>70.3</td>\n",
       "      <td>1.0</td>\n",
       "      <td>2.0</td>\n",
       "      <td>3.0</td>\n",
       "      <td>1.6</td>\n",
       "      <td>0.6</td>\n",
       "      <td>0.4</td>\n",
       "      <td>1.2</td>\n",
       "      <td>0.6</td>\n",
       "    </tr>\n",
       "    <tr>\n",
       "      <th>std</th>\n",
       "      <td>17.4</td>\n",
       "      <td>8.3</td>\n",
       "      <td>4.4</td>\n",
       "      <td>1.7</td>\n",
       "      <td>3.6</td>\n",
       "      <td>6.1</td>\n",
       "      <td>0.4</td>\n",
       "      <td>1.1</td>\n",
       "      <td>16.0</td>\n",
       "      <td>1.0</td>\n",
       "      <td>1.3</td>\n",
       "      <td>10.6</td>\n",
       "      <td>0.8</td>\n",
       "      <td>1.4</td>\n",
       "      <td>2.1</td>\n",
       "      <td>1.5</td>\n",
       "      <td>0.4</td>\n",
       "      <td>0.4</td>\n",
       "      <td>0.7</td>\n",
       "      <td>0.5</td>\n",
       "    </tr>\n",
       "    <tr>\n",
       "      <th>min</th>\n",
       "      <td>11.0</td>\n",
       "      <td>3.1</td>\n",
       "      <td>0.7</td>\n",
       "      <td>0.3</td>\n",
       "      <td>0.8</td>\n",
       "      <td>23.8</td>\n",
       "      <td>0.0</td>\n",
       "      <td>0.0</td>\n",
       "      <td>0.0</td>\n",
       "      <td>0.0</td>\n",
       "      <td>0.0</td>\n",
       "      <td>0.0</td>\n",
       "      <td>0.0</td>\n",
       "      <td>0.2</td>\n",
       "      <td>0.3</td>\n",
       "      <td>0.0</td>\n",
       "      <td>0.0</td>\n",
       "      <td>0.0</td>\n",
       "      <td>0.1</td>\n",
       "      <td>0.0</td>\n",
       "    </tr>\n",
       "    <tr>\n",
       "      <th>25%</th>\n",
       "      <td>47.0</td>\n",
       "      <td>10.9</td>\n",
       "      <td>3.7</td>\n",
       "      <td>1.4</td>\n",
       "      <td>3.3</td>\n",
       "      <td>40.2</td>\n",
       "      <td>0.0</td>\n",
       "      <td>0.0</td>\n",
       "      <td>0.0</td>\n",
       "      <td>0.6</td>\n",
       "      <td>0.9</td>\n",
       "      <td>64.7</td>\n",
       "      <td>0.4</td>\n",
       "      <td>1.0</td>\n",
       "      <td>1.5</td>\n",
       "      <td>0.6</td>\n",
       "      <td>0.3</td>\n",
       "      <td>0.1</td>\n",
       "      <td>0.7</td>\n",
       "      <td>0.0</td>\n",
       "    </tr>\n",
       "    <tr>\n",
       "      <th>50%</th>\n",
       "      <td>63.0</td>\n",
       "      <td>16.1</td>\n",
       "      <td>5.5</td>\n",
       "      <td>2.1</td>\n",
       "      <td>4.8</td>\n",
       "      <td>44.1</td>\n",
       "      <td>0.1</td>\n",
       "      <td>0.3</td>\n",
       "      <td>22.4</td>\n",
       "      <td>1.0</td>\n",
       "      <td>1.5</td>\n",
       "      <td>71.2</td>\n",
       "      <td>0.8</td>\n",
       "      <td>1.7</td>\n",
       "      <td>2.5</td>\n",
       "      <td>1.1</td>\n",
       "      <td>0.5</td>\n",
       "      <td>0.2</td>\n",
       "      <td>1.0</td>\n",
       "      <td>1.0</td>\n",
       "    </tr>\n",
       "    <tr>\n",
       "      <th>75%</th>\n",
       "      <td>77.0</td>\n",
       "      <td>22.9</td>\n",
       "      <td>8.8</td>\n",
       "      <td>3.4</td>\n",
       "      <td>7.5</td>\n",
       "      <td>47.9</td>\n",
       "      <td>0.4</td>\n",
       "      <td>1.2</td>\n",
       "      <td>32.5</td>\n",
       "      <td>1.6</td>\n",
       "      <td>2.3</td>\n",
       "      <td>77.6</td>\n",
       "      <td>1.4</td>\n",
       "      <td>2.6</td>\n",
       "      <td>4.0</td>\n",
       "      <td>2.0</td>\n",
       "      <td>0.8</td>\n",
       "      <td>0.5</td>\n",
       "      <td>1.5</td>\n",
       "      <td>1.0</td>\n",
       "    </tr>\n",
       "    <tr>\n",
       "      <th>max</th>\n",
       "      <td>82.0</td>\n",
       "      <td>40.9</td>\n",
       "      <td>28.2</td>\n",
       "      <td>10.2</td>\n",
       "      <td>19.8</td>\n",
       "      <td>73.7</td>\n",
       "      <td>2.3</td>\n",
       "      <td>6.5</td>\n",
       "      <td>100.0</td>\n",
       "      <td>7.7</td>\n",
       "      <td>10.2</td>\n",
       "      <td>100.0</td>\n",
       "      <td>5.3</td>\n",
       "      <td>9.6</td>\n",
       "      <td>13.9</td>\n",
       "      <td>10.6</td>\n",
       "      <td>2.5</td>\n",
       "      <td>3.9</td>\n",
       "      <td>4.4</td>\n",
       "      <td>1.0</td>\n",
       "    </tr>\n",
       "  </tbody>\n",
       "</table>\n",
       "</div>"
      ],
      "text/plain": [
       "       Games Played  Minutes Played  Points Per Game  Field Goals Made  \\\n",
       "count        1340.0          1340.0           1340.0            1340.0   \n",
       "mean           60.4            17.6              6.8               2.6   \n",
       "std            17.4             8.3              4.4               1.7   \n",
       "min            11.0             3.1              0.7               0.3   \n",
       "25%            47.0            10.9              3.7               1.4   \n",
       "50%            63.0            16.1              5.5               2.1   \n",
       "75%            77.0            22.9              8.8               3.4   \n",
       "max            82.0            40.9             28.2              10.2   \n",
       "\n",
       "       Field Goal Attempts  Field Goal Percent  3 Point Made  3 Point Attempt  \\\n",
       "count               1340.0              1340.0        1340.0           1340.0   \n",
       "mean                   5.9                44.2           0.2              0.8   \n",
       "std                    3.6                 6.1           0.4              1.1   \n",
       "min                    0.8                23.8           0.0              0.0   \n",
       "25%                    3.3                40.2           0.0              0.0   \n",
       "50%                    4.8                44.1           0.1              0.3   \n",
       "75%                    7.5                47.9           0.4              1.2   \n",
       "max                   19.8                73.7           2.3              6.5   \n",
       "\n",
       "       3 Point Percent  Free Throw Made  Free Throw Attempts  \\\n",
       "count           1329.0           1340.0               1340.0   \n",
       "mean              19.3              1.3                  1.8   \n",
       "std               16.0              1.0                  1.3   \n",
       "min                0.0              0.0                  0.0   \n",
       "25%                0.0              0.6                  0.9   \n",
       "50%               22.4              1.0                  1.5   \n",
       "75%               32.5              1.6                  2.3   \n",
       "max              100.0              7.7                 10.2   \n",
       "\n",
       "       Free Throw Percent  Offensive Rebounds  Defensive Rebounds  Rebounds  \\\n",
       "count              1340.0              1340.0              1340.0    1340.0   \n",
       "mean                 70.3                 1.0                 2.0       3.0   \n",
       "std                  10.6                 0.8                 1.4       2.1   \n",
       "min                   0.0                 0.0                 0.2       0.3   \n",
       "25%                  64.7                 0.4                 1.0       1.5   \n",
       "50%                  71.2                 0.8                 1.7       2.5   \n",
       "75%                  77.6                 1.4                 2.6       4.0   \n",
       "max                 100.0                 5.3                 9.6      13.9   \n",
       "\n",
       "       Assists  Steals  Blocks  Turnovers  TARGET_5Yrs  \n",
       "count   1340.0  1340.0  1340.0     1340.0       1340.0  \n",
       "mean       1.6     0.6     0.4        1.2          0.6  \n",
       "std        1.5     0.4     0.4        0.7          0.5  \n",
       "min        0.0     0.0     0.0        0.1          0.0  \n",
       "25%        0.6     0.3     0.1        0.7          0.0  \n",
       "50%        1.1     0.5     0.2        1.0          1.0  \n",
       "75%        2.0     0.8     0.5        1.5          1.0  \n",
       "max       10.6     2.5     3.9        4.4          1.0  "
      ]
     },
     "metadata": {},
     "output_type": "display_data"
    }
   ],
   "source": [
    "# descriptions\n",
    "set_option('precision', 1)\n",
    "display(nba_rookie_data.describe())"
   ]
  },
  {
   "cell_type": "markdown",
   "metadata": {},
   "source": [
    "## Data Anlaysis"
   ]
  },
  {
   "cell_type": "code",
   "execution_count": 6,
   "metadata": {},
   "outputs": [
    {
     "data": {
      "text/html": [
       "<div>\n",
       "<style scoped>\n",
       "    .dataframe tbody tr th:only-of-type {\n",
       "        vertical-align: middle;\n",
       "    }\n",
       "\n",
       "    .dataframe tbody tr th {\n",
       "        vertical-align: top;\n",
       "    }\n",
       "\n",
       "    .dataframe thead th {\n",
       "        text-align: right;\n",
       "    }\n",
       "</style>\n",
       "<table border=\"1\" class=\"dataframe\">\n",
       "  <thead>\n",
       "    <tr style=\"text-align: right;\">\n",
       "      <th></th>\n",
       "      <th>Games Played</th>\n",
       "      <th>Minutes Played</th>\n",
       "      <th>Points Per Game</th>\n",
       "      <th>Field Goals Made</th>\n",
       "      <th>Field Goal Attempts</th>\n",
       "      <th>Field Goal Percent</th>\n",
       "      <th>3 Point Made</th>\n",
       "      <th>3 Point Attempt</th>\n",
       "      <th>3 Point Percent</th>\n",
       "      <th>Free Throw Made</th>\n",
       "      <th>Free Throw Attempts</th>\n",
       "      <th>Free Throw Percent</th>\n",
       "      <th>Offensive Rebounds</th>\n",
       "      <th>Defensive Rebounds</th>\n",
       "      <th>Rebounds</th>\n",
       "      <th>Assists</th>\n",
       "      <th>Steals</th>\n",
       "      <th>Blocks</th>\n",
       "      <th>Turnovers</th>\n",
       "      <th>TARGET_5Yrs</th>\n",
       "    </tr>\n",
       "  </thead>\n",
       "  <tbody>\n",
       "    <tr>\n",
       "      <th>Games Played</th>\n",
       "      <td>1.000</td>\n",
       "      <td>0.590</td>\n",
       "      <td>0.538</td>\n",
       "      <td>0.543</td>\n",
       "      <td>0.517</td>\n",
       "      <td>0.296</td>\n",
       "      <td>0.107</td>\n",
       "      <td>0.099</td>\n",
       "      <td>0.038</td>\n",
       "      <td>0.482</td>\n",
       "      <td>0.479</td>\n",
       "      <td>0.196</td>\n",
       "      <td>0.401</td>\n",
       "      <td>0.467</td>\n",
       "      <td>0.460</td>\n",
       "      <td>0.373</td>\n",
       "      <td>0.451</td>\n",
       "      <td>0.276</td>\n",
       "      <td>0.518</td>\n",
       "      <td>0.397</td>\n",
       "    </tr>\n",
       "    <tr>\n",
       "      <th>Minutes Played</th>\n",
       "      <td>0.590</td>\n",
       "      <td>1.000</td>\n",
       "      <td>0.912</td>\n",
       "      <td>0.903</td>\n",
       "      <td>0.910</td>\n",
       "      <td>0.204</td>\n",
       "      <td>0.390</td>\n",
       "      <td>0.403</td>\n",
       "      <td>0.166</td>\n",
       "      <td>0.791</td>\n",
       "      <td>0.780</td>\n",
       "      <td>0.240</td>\n",
       "      <td>0.573</td>\n",
       "      <td>0.746</td>\n",
       "      <td>0.710</td>\n",
       "      <td>0.629</td>\n",
       "      <td>0.757</td>\n",
       "      <td>0.399</td>\n",
       "      <td>0.826</td>\n",
       "      <td>0.318</td>\n",
       "    </tr>\n",
       "    <tr>\n",
       "      <th>Points Per Game</th>\n",
       "      <td>0.538</td>\n",
       "      <td>0.912</td>\n",
       "      <td>1.000</td>\n",
       "      <td>0.991</td>\n",
       "      <td>0.980</td>\n",
       "      <td>0.255</td>\n",
       "      <td>0.347</td>\n",
       "      <td>0.357</td>\n",
       "      <td>0.151</td>\n",
       "      <td>0.896</td>\n",
       "      <td>0.881</td>\n",
       "      <td>0.259</td>\n",
       "      <td>0.575</td>\n",
       "      <td>0.694</td>\n",
       "      <td>0.677</td>\n",
       "      <td>0.552</td>\n",
       "      <td>0.675</td>\n",
       "      <td>0.387</td>\n",
       "      <td>0.850</td>\n",
       "      <td>0.316</td>\n",
       "    </tr>\n",
       "    <tr>\n",
       "      <th>Field Goals Made</th>\n",
       "      <td>0.543</td>\n",
       "      <td>0.903</td>\n",
       "      <td>0.991</td>\n",
       "      <td>1.000</td>\n",
       "      <td>0.980</td>\n",
       "      <td>0.292</td>\n",
       "      <td>0.289</td>\n",
       "      <td>0.299</td>\n",
       "      <td>0.119</td>\n",
       "      <td>0.848</td>\n",
       "      <td>0.840</td>\n",
       "      <td>0.224</td>\n",
       "      <td>0.597</td>\n",
       "      <td>0.703</td>\n",
       "      <td>0.691</td>\n",
       "      <td>0.533</td>\n",
       "      <td>0.663</td>\n",
       "      <td>0.398</td>\n",
       "      <td>0.834</td>\n",
       "      <td>0.318</td>\n",
       "    </tr>\n",
       "    <tr>\n",
       "      <th>Field Goal Attempts</th>\n",
       "      <td>0.517</td>\n",
       "      <td>0.910</td>\n",
       "      <td>0.980</td>\n",
       "      <td>0.980</td>\n",
       "      <td>1.000</td>\n",
       "      <td>0.130</td>\n",
       "      <td>0.390</td>\n",
       "      <td>0.414</td>\n",
       "      <td>0.197</td>\n",
       "      <td>0.827</td>\n",
       "      <td>0.806</td>\n",
       "      <td>0.270</td>\n",
       "      <td>0.504</td>\n",
       "      <td>0.640</td>\n",
       "      <td>0.614</td>\n",
       "      <td>0.590</td>\n",
       "      <td>0.690</td>\n",
       "      <td>0.322</td>\n",
       "      <td>0.846</td>\n",
       "      <td>0.293</td>\n",
       "    </tr>\n",
       "    <tr>\n",
       "      <th>Field Goal Percent</th>\n",
       "      <td>0.296</td>\n",
       "      <td>0.204</td>\n",
       "      <td>0.255</td>\n",
       "      <td>0.292</td>\n",
       "      <td>0.130</td>\n",
       "      <td>1.000</td>\n",
       "      <td>-0.294</td>\n",
       "      <td>-0.351</td>\n",
       "      <td>-0.331</td>\n",
       "      <td>0.246</td>\n",
       "      <td>0.300</td>\n",
       "      <td>-0.161</td>\n",
       "      <td>0.511</td>\n",
       "      <td>0.411</td>\n",
       "      <td>0.465</td>\n",
       "      <td>-0.109</td>\n",
       "      <td>0.057</td>\n",
       "      <td>0.392</td>\n",
       "      <td>0.122</td>\n",
       "      <td>0.227</td>\n",
       "    </tr>\n",
       "    <tr>\n",
       "      <th>3 Point Made</th>\n",
       "      <td>0.107</td>\n",
       "      <td>0.390</td>\n",
       "      <td>0.347</td>\n",
       "      <td>0.289</td>\n",
       "      <td>0.390</td>\n",
       "      <td>-0.294</td>\n",
       "      <td>1.000</td>\n",
       "      <td>0.983</td>\n",
       "      <td>0.590</td>\n",
       "      <td>0.158</td>\n",
       "      <td>0.095</td>\n",
       "      <td>0.314</td>\n",
       "      <td>-0.219</td>\n",
       "      <td>0.017</td>\n",
       "      <td>-0.073</td>\n",
       "      <td>0.377</td>\n",
       "      <td>0.307</td>\n",
       "      <td>-0.159</td>\n",
       "      <td>0.258</td>\n",
       "      <td>0.037</td>\n",
       "    </tr>\n",
       "    <tr>\n",
       "      <th>3 Point Attempt</th>\n",
       "      <td>0.099</td>\n",
       "      <td>0.403</td>\n",
       "      <td>0.357</td>\n",
       "      <td>0.299</td>\n",
       "      <td>0.414</td>\n",
       "      <td>-0.351</td>\n",
       "      <td>0.983</td>\n",
       "      <td>1.000</td>\n",
       "      <td>0.582</td>\n",
       "      <td>0.174</td>\n",
       "      <td>0.108</td>\n",
       "      <td>0.324</td>\n",
       "      <td>-0.232</td>\n",
       "      <td>0.011</td>\n",
       "      <td>-0.081</td>\n",
       "      <td>0.411</td>\n",
       "      <td>0.339</td>\n",
       "      <td>-0.172</td>\n",
       "      <td>0.284</td>\n",
       "      <td>0.018</td>\n",
       "    </tr>\n",
       "    <tr>\n",
       "      <th>3 Point Percent</th>\n",
       "      <td>0.038</td>\n",
       "      <td>0.166</td>\n",
       "      <td>0.151</td>\n",
       "      <td>0.119</td>\n",
       "      <td>0.197</td>\n",
       "      <td>-0.331</td>\n",
       "      <td>0.590</td>\n",
       "      <td>0.582</td>\n",
       "      <td>1.000</td>\n",
       "      <td>0.030</td>\n",
       "      <td>-0.032</td>\n",
       "      <td>0.326</td>\n",
       "      <td>-0.289</td>\n",
       "      <td>-0.123</td>\n",
       "      <td>-0.191</td>\n",
       "      <td>0.262</td>\n",
       "      <td>0.194</td>\n",
       "      <td>-0.242</td>\n",
       "      <td>0.108</td>\n",
       "      <td>-0.003</td>\n",
       "    </tr>\n",
       "    <tr>\n",
       "      <th>Free Throw Made</th>\n",
       "      <td>0.482</td>\n",
       "      <td>0.791</td>\n",
       "      <td>0.896</td>\n",
       "      <td>0.848</td>\n",
       "      <td>0.827</td>\n",
       "      <td>0.246</td>\n",
       "      <td>0.158</td>\n",
       "      <td>0.174</td>\n",
       "      <td>0.030</td>\n",
       "      <td>1.000</td>\n",
       "      <td>0.981</td>\n",
       "      <td>0.258</td>\n",
       "      <td>0.584</td>\n",
       "      <td>0.654</td>\n",
       "      <td>0.654</td>\n",
       "      <td>0.476</td>\n",
       "      <td>0.600</td>\n",
       "      <td>0.407</td>\n",
       "      <td>0.805</td>\n",
       "      <td>0.297</td>\n",
       "    </tr>\n",
       "    <tr>\n",
       "      <th>Free Throw Attempts</th>\n",
       "      <td>0.479</td>\n",
       "      <td>0.780</td>\n",
       "      <td>0.881</td>\n",
       "      <td>0.840</td>\n",
       "      <td>0.806</td>\n",
       "      <td>0.300</td>\n",
       "      <td>0.095</td>\n",
       "      <td>0.108</td>\n",
       "      <td>-0.032</td>\n",
       "      <td>0.981</td>\n",
       "      <td>1.000</td>\n",
       "      <td>0.115</td>\n",
       "      <td>0.653</td>\n",
       "      <td>0.701</td>\n",
       "      <td>0.711</td>\n",
       "      <td>0.429</td>\n",
       "      <td>0.580</td>\n",
       "      <td>0.469</td>\n",
       "      <td>0.799</td>\n",
       "      <td>0.296</td>\n",
       "    </tr>\n",
       "    <tr>\n",
       "      <th>Free Throw Percent</th>\n",
       "      <td>0.196</td>\n",
       "      <td>0.240</td>\n",
       "      <td>0.259</td>\n",
       "      <td>0.224</td>\n",
       "      <td>0.270</td>\n",
       "      <td>-0.161</td>\n",
       "      <td>0.314</td>\n",
       "      <td>0.324</td>\n",
       "      <td>0.326</td>\n",
       "      <td>0.258</td>\n",
       "      <td>0.115</td>\n",
       "      <td>1.000</td>\n",
       "      <td>-0.147</td>\n",
       "      <td>-0.023</td>\n",
       "      <td>-0.071</td>\n",
       "      <td>0.296</td>\n",
       "      <td>0.207</td>\n",
       "      <td>-0.161</td>\n",
       "      <td>0.200</td>\n",
       "      <td>0.107</td>\n",
       "    </tr>\n",
       "    <tr>\n",
       "      <th>Offensive Rebounds</th>\n",
       "      <td>0.401</td>\n",
       "      <td>0.573</td>\n",
       "      <td>0.575</td>\n",
       "      <td>0.597</td>\n",
       "      <td>0.504</td>\n",
       "      <td>0.511</td>\n",
       "      <td>-0.219</td>\n",
       "      <td>-0.232</td>\n",
       "      <td>-0.289</td>\n",
       "      <td>0.584</td>\n",
       "      <td>0.653</td>\n",
       "      <td>-0.147</td>\n",
       "      <td>1.000</td>\n",
       "      <td>0.839</td>\n",
       "      <td>0.933</td>\n",
       "      <td>-0.012</td>\n",
       "      <td>0.287</td>\n",
       "      <td>0.648</td>\n",
       "      <td>0.422</td>\n",
       "      <td>0.293</td>\n",
       "    </tr>\n",
       "    <tr>\n",
       "      <th>Defensive Rebounds</th>\n",
       "      <td>0.467</td>\n",
       "      <td>0.746</td>\n",
       "      <td>0.694</td>\n",
       "      <td>0.703</td>\n",
       "      <td>0.640</td>\n",
       "      <td>0.411</td>\n",
       "      <td>0.017</td>\n",
       "      <td>0.011</td>\n",
       "      <td>-0.123</td>\n",
       "      <td>0.654</td>\n",
       "      <td>0.701</td>\n",
       "      <td>-0.023</td>\n",
       "      <td>0.839</td>\n",
       "      <td>1.000</td>\n",
       "      <td>0.978</td>\n",
       "      <td>0.187</td>\n",
       "      <td>0.412</td>\n",
       "      <td>0.688</td>\n",
       "      <td>0.570</td>\n",
       "      <td>0.285</td>\n",
       "    </tr>\n",
       "    <tr>\n",
       "      <th>Rebounds</th>\n",
       "      <td>0.460</td>\n",
       "      <td>0.710</td>\n",
       "      <td>0.677</td>\n",
       "      <td>0.691</td>\n",
       "      <td>0.614</td>\n",
       "      <td>0.465</td>\n",
       "      <td>-0.073</td>\n",
       "      <td>-0.081</td>\n",
       "      <td>-0.191</td>\n",
       "      <td>0.654</td>\n",
       "      <td>0.711</td>\n",
       "      <td>-0.071</td>\n",
       "      <td>0.933</td>\n",
       "      <td>0.978</td>\n",
       "      <td>1.000</td>\n",
       "      <td>0.119</td>\n",
       "      <td>0.381</td>\n",
       "      <td>0.700</td>\n",
       "      <td>0.537</td>\n",
       "      <td>0.299</td>\n",
       "    </tr>\n",
       "    <tr>\n",
       "      <th>Assists</th>\n",
       "      <td>0.373</td>\n",
       "      <td>0.629</td>\n",
       "      <td>0.552</td>\n",
       "      <td>0.533</td>\n",
       "      <td>0.590</td>\n",
       "      <td>-0.109</td>\n",
       "      <td>0.377</td>\n",
       "      <td>0.411</td>\n",
       "      <td>0.262</td>\n",
       "      <td>0.476</td>\n",
       "      <td>0.429</td>\n",
       "      <td>0.296</td>\n",
       "      <td>-0.012</td>\n",
       "      <td>0.187</td>\n",
       "      <td>0.119</td>\n",
       "      <td>1.000</td>\n",
       "      <td>0.751</td>\n",
       "      <td>-0.086</td>\n",
       "      <td>0.747</td>\n",
       "      <td>0.175</td>\n",
       "    </tr>\n",
       "    <tr>\n",
       "      <th>Steals</th>\n",
       "      <td>0.451</td>\n",
       "      <td>0.757</td>\n",
       "      <td>0.675</td>\n",
       "      <td>0.663</td>\n",
       "      <td>0.690</td>\n",
       "      <td>0.057</td>\n",
       "      <td>0.307</td>\n",
       "      <td>0.339</td>\n",
       "      <td>0.194</td>\n",
       "      <td>0.600</td>\n",
       "      <td>0.580</td>\n",
       "      <td>0.207</td>\n",
       "      <td>0.287</td>\n",
       "      <td>0.412</td>\n",
       "      <td>0.381</td>\n",
       "      <td>0.751</td>\n",
       "      <td>1.000</td>\n",
       "      <td>0.134</td>\n",
       "      <td>0.742</td>\n",
       "      <td>0.230</td>\n",
       "    </tr>\n",
       "    <tr>\n",
       "      <th>Blocks</th>\n",
       "      <td>0.276</td>\n",
       "      <td>0.399</td>\n",
       "      <td>0.387</td>\n",
       "      <td>0.398</td>\n",
       "      <td>0.322</td>\n",
       "      <td>0.392</td>\n",
       "      <td>-0.159</td>\n",
       "      <td>-0.172</td>\n",
       "      <td>-0.242</td>\n",
       "      <td>0.407</td>\n",
       "      <td>0.469</td>\n",
       "      <td>-0.161</td>\n",
       "      <td>0.648</td>\n",
       "      <td>0.688</td>\n",
       "      <td>0.700</td>\n",
       "      <td>-0.086</td>\n",
       "      <td>0.134</td>\n",
       "      <td>1.000</td>\n",
       "      <td>0.282</td>\n",
       "      <td>0.210</td>\n",
       "    </tr>\n",
       "    <tr>\n",
       "      <th>Turnovers</th>\n",
       "      <td>0.518</td>\n",
       "      <td>0.826</td>\n",
       "      <td>0.850</td>\n",
       "      <td>0.834</td>\n",
       "      <td>0.846</td>\n",
       "      <td>0.122</td>\n",
       "      <td>0.258</td>\n",
       "      <td>0.284</td>\n",
       "      <td>0.108</td>\n",
       "      <td>0.805</td>\n",
       "      <td>0.799</td>\n",
       "      <td>0.200</td>\n",
       "      <td>0.422</td>\n",
       "      <td>0.570</td>\n",
       "      <td>0.537</td>\n",
       "      <td>0.747</td>\n",
       "      <td>0.742</td>\n",
       "      <td>0.282</td>\n",
       "      <td>1.000</td>\n",
       "      <td>0.272</td>\n",
       "    </tr>\n",
       "    <tr>\n",
       "      <th>TARGET_5Yrs</th>\n",
       "      <td>0.397</td>\n",
       "      <td>0.318</td>\n",
       "      <td>0.316</td>\n",
       "      <td>0.318</td>\n",
       "      <td>0.293</td>\n",
       "      <td>0.227</td>\n",
       "      <td>0.037</td>\n",
       "      <td>0.018</td>\n",
       "      <td>-0.003</td>\n",
       "      <td>0.297</td>\n",
       "      <td>0.296</td>\n",
       "      <td>0.107</td>\n",
       "      <td>0.293</td>\n",
       "      <td>0.285</td>\n",
       "      <td>0.299</td>\n",
       "      <td>0.175</td>\n",
       "      <td>0.230</td>\n",
       "      <td>0.210</td>\n",
       "      <td>0.272</td>\n",
       "      <td>1.000</td>\n",
       "    </tr>\n",
       "  </tbody>\n",
       "</table>\n",
       "</div>"
      ],
      "text/plain": [
       "                     Games Played  Minutes Played  Points Per Game  \\\n",
       "Games Played                1.000           0.590            0.538   \n",
       "Minutes Played              0.590           1.000            0.912   \n",
       "Points Per Game             0.538           0.912            1.000   \n",
       "Field Goals Made            0.543           0.903            0.991   \n",
       "Field Goal Attempts         0.517           0.910            0.980   \n",
       "Field Goal Percent          0.296           0.204            0.255   \n",
       "3 Point Made                0.107           0.390            0.347   \n",
       "3 Point Attempt             0.099           0.403            0.357   \n",
       "3 Point Percent             0.038           0.166            0.151   \n",
       "Free Throw Made             0.482           0.791            0.896   \n",
       "Free Throw Attempts         0.479           0.780            0.881   \n",
       "Free Throw Percent          0.196           0.240            0.259   \n",
       "Offensive Rebounds          0.401           0.573            0.575   \n",
       "Defensive Rebounds          0.467           0.746            0.694   \n",
       "Rebounds                    0.460           0.710            0.677   \n",
       "Assists                     0.373           0.629            0.552   \n",
       "Steals                      0.451           0.757            0.675   \n",
       "Blocks                      0.276           0.399            0.387   \n",
       "Turnovers                   0.518           0.826            0.850   \n",
       "TARGET_5Yrs                 0.397           0.318            0.316   \n",
       "\n",
       "                     Field Goals Made  Field Goal Attempts  \\\n",
       "Games Played                    0.543                0.517   \n",
       "Minutes Played                  0.903                0.910   \n",
       "Points Per Game                 0.991                0.980   \n",
       "Field Goals Made                1.000                0.980   \n",
       "Field Goal Attempts             0.980                1.000   \n",
       "Field Goal Percent              0.292                0.130   \n",
       "3 Point Made                    0.289                0.390   \n",
       "3 Point Attempt                 0.299                0.414   \n",
       "3 Point Percent                 0.119                0.197   \n",
       "Free Throw Made                 0.848                0.827   \n",
       "Free Throw Attempts             0.840                0.806   \n",
       "Free Throw Percent              0.224                0.270   \n",
       "Offensive Rebounds              0.597                0.504   \n",
       "Defensive Rebounds              0.703                0.640   \n",
       "Rebounds                        0.691                0.614   \n",
       "Assists                         0.533                0.590   \n",
       "Steals                          0.663                0.690   \n",
       "Blocks                          0.398                0.322   \n",
       "Turnovers                       0.834                0.846   \n",
       "TARGET_5Yrs                     0.318                0.293   \n",
       "\n",
       "                     Field Goal Percent  3 Point Made  3 Point Attempt  \\\n",
       "Games Played                      0.296         0.107            0.099   \n",
       "Minutes Played                    0.204         0.390            0.403   \n",
       "Points Per Game                   0.255         0.347            0.357   \n",
       "Field Goals Made                  0.292         0.289            0.299   \n",
       "Field Goal Attempts               0.130         0.390            0.414   \n",
       "Field Goal Percent                1.000        -0.294           -0.351   \n",
       "3 Point Made                     -0.294         1.000            0.983   \n",
       "3 Point Attempt                  -0.351         0.983            1.000   \n",
       "3 Point Percent                  -0.331         0.590            0.582   \n",
       "Free Throw Made                   0.246         0.158            0.174   \n",
       "Free Throw Attempts               0.300         0.095            0.108   \n",
       "Free Throw Percent               -0.161         0.314            0.324   \n",
       "Offensive Rebounds                0.511        -0.219           -0.232   \n",
       "Defensive Rebounds                0.411         0.017            0.011   \n",
       "Rebounds                          0.465        -0.073           -0.081   \n",
       "Assists                          -0.109         0.377            0.411   \n",
       "Steals                            0.057         0.307            0.339   \n",
       "Blocks                            0.392        -0.159           -0.172   \n",
       "Turnovers                         0.122         0.258            0.284   \n",
       "TARGET_5Yrs                       0.227         0.037            0.018   \n",
       "\n",
       "                     3 Point Percent  Free Throw Made  Free Throw Attempts  \\\n",
       "Games Played                   0.038            0.482                0.479   \n",
       "Minutes Played                 0.166            0.791                0.780   \n",
       "Points Per Game                0.151            0.896                0.881   \n",
       "Field Goals Made               0.119            0.848                0.840   \n",
       "Field Goal Attempts            0.197            0.827                0.806   \n",
       "Field Goal Percent            -0.331            0.246                0.300   \n",
       "3 Point Made                   0.590            0.158                0.095   \n",
       "3 Point Attempt                0.582            0.174                0.108   \n",
       "3 Point Percent                1.000            0.030               -0.032   \n",
       "Free Throw Made                0.030            1.000                0.981   \n",
       "Free Throw Attempts           -0.032            0.981                1.000   \n",
       "Free Throw Percent             0.326            0.258                0.115   \n",
       "Offensive Rebounds            -0.289            0.584                0.653   \n",
       "Defensive Rebounds            -0.123            0.654                0.701   \n",
       "Rebounds                      -0.191            0.654                0.711   \n",
       "Assists                        0.262            0.476                0.429   \n",
       "Steals                         0.194            0.600                0.580   \n",
       "Blocks                        -0.242            0.407                0.469   \n",
       "Turnovers                      0.108            0.805                0.799   \n",
       "TARGET_5Yrs                   -0.003            0.297                0.296   \n",
       "\n",
       "                     Free Throw Percent  Offensive Rebounds  \\\n",
       "Games Played                      0.196               0.401   \n",
       "Minutes Played                    0.240               0.573   \n",
       "Points Per Game                   0.259               0.575   \n",
       "Field Goals Made                  0.224               0.597   \n",
       "Field Goal Attempts               0.270               0.504   \n",
       "Field Goal Percent               -0.161               0.511   \n",
       "3 Point Made                      0.314              -0.219   \n",
       "3 Point Attempt                   0.324              -0.232   \n",
       "3 Point Percent                   0.326              -0.289   \n",
       "Free Throw Made                   0.258               0.584   \n",
       "Free Throw Attempts               0.115               0.653   \n",
       "Free Throw Percent                1.000              -0.147   \n",
       "Offensive Rebounds               -0.147               1.000   \n",
       "Defensive Rebounds               -0.023               0.839   \n",
       "Rebounds                         -0.071               0.933   \n",
       "Assists                           0.296              -0.012   \n",
       "Steals                            0.207               0.287   \n",
       "Blocks                           -0.161               0.648   \n",
       "Turnovers                         0.200               0.422   \n",
       "TARGET_5Yrs                       0.107               0.293   \n",
       "\n",
       "                     Defensive Rebounds  Rebounds  Assists  Steals  Blocks  \\\n",
       "Games Played                      0.467     0.460    0.373   0.451   0.276   \n",
       "Minutes Played                    0.746     0.710    0.629   0.757   0.399   \n",
       "Points Per Game                   0.694     0.677    0.552   0.675   0.387   \n",
       "Field Goals Made                  0.703     0.691    0.533   0.663   0.398   \n",
       "Field Goal Attempts               0.640     0.614    0.590   0.690   0.322   \n",
       "Field Goal Percent                0.411     0.465   -0.109   0.057   0.392   \n",
       "3 Point Made                      0.017    -0.073    0.377   0.307  -0.159   \n",
       "3 Point Attempt                   0.011    -0.081    0.411   0.339  -0.172   \n",
       "3 Point Percent                  -0.123    -0.191    0.262   0.194  -0.242   \n",
       "Free Throw Made                   0.654     0.654    0.476   0.600   0.407   \n",
       "Free Throw Attempts               0.701     0.711    0.429   0.580   0.469   \n",
       "Free Throw Percent               -0.023    -0.071    0.296   0.207  -0.161   \n",
       "Offensive Rebounds                0.839     0.933   -0.012   0.287   0.648   \n",
       "Defensive Rebounds                1.000     0.978    0.187   0.412   0.688   \n",
       "Rebounds                          0.978     1.000    0.119   0.381   0.700   \n",
       "Assists                           0.187     0.119    1.000   0.751  -0.086   \n",
       "Steals                            0.412     0.381    0.751   1.000   0.134   \n",
       "Blocks                            0.688     0.700   -0.086   0.134   1.000   \n",
       "Turnovers                         0.570     0.537    0.747   0.742   0.282   \n",
       "TARGET_5Yrs                       0.285     0.299    0.175   0.230   0.210   \n",
       "\n",
       "                     Turnovers  TARGET_5Yrs  \n",
       "Games Played             0.518        0.397  \n",
       "Minutes Played           0.826        0.318  \n",
       "Points Per Game          0.850        0.316  \n",
       "Field Goals Made         0.834        0.318  \n",
       "Field Goal Attempts      0.846        0.293  \n",
       "Field Goal Percent       0.122        0.227  \n",
       "3 Point Made             0.258        0.037  \n",
       "3 Point Attempt          0.284        0.018  \n",
       "3 Point Percent          0.108       -0.003  \n",
       "Free Throw Made          0.805        0.297  \n",
       "Free Throw Attempts      0.799        0.296  \n",
       "Free Throw Percent       0.200        0.107  \n",
       "Offensive Rebounds       0.422        0.293  \n",
       "Defensive Rebounds       0.570        0.285  \n",
       "Rebounds                 0.537        0.299  \n",
       "Assists                  0.747        0.175  \n",
       "Steals                   0.742        0.230  \n",
       "Blocks                   0.282        0.210  \n",
       "Turnovers                1.000        0.272  \n",
       "TARGET_5Yrs              0.272        1.000  "
      ]
     },
     "metadata": {},
     "output_type": "display_data"
    }
   ],
   "source": [
    "# correlation\n",
    "set_option('precision', 3)\n",
    "display(nba_rookie_data.corr(method='pearson'))\n",
    "\n",
    "# Considering attributes that are strongly correlated to price\n",
    "# Using values not less that 0.25 to select the attributes that are strongly correlated to price ,\n",
    "# Attributes that are strongly correlated with price are :\n",
    "# Games Played,Minutes Played,Points Per Game,Field Goals Made,Field Goal Attempts\n",
    "# Free Throw Made,Free Throw Attempts,Offensive Rebounds,Defensive Rebounds,Rebounds,Turnovers"
   ]
  },
  {
   "cell_type": "code",
   "execution_count": 7,
   "metadata": {},
   "outputs": [],
   "source": [
    "nba_rookie_data_df=nba_rookie_data.drop(['Name','Field Goal Percent','3 Point Made','3 Point Attempt','3 Point Percent','Free Throw Percent','Assists','Steals','Blocks'],axis=1)"
   ]
  },
  {
   "cell_type": "code",
   "execution_count": 8,
   "metadata": {},
   "outputs": [],
   "source": [
    "#nba_rookie_data_df.head()"
   ]
  },
  {
   "cell_type": "code",
   "execution_count": 9,
   "metadata": {},
   "outputs": [],
   "source": [
    "data =nba_rookie_data_df.values\n",
    "X= data[:,0:11]\n",
    "y =data[:,11]"
   ]
  },
  {
   "cell_type": "markdown",
   "metadata": {},
   "source": [
    "## Logistic Regression Model"
   ]
  },
  {
   "cell_type": "code",
   "execution_count": 10,
   "metadata": {},
   "outputs": [],
   "source": [
    "# sklearn package for machine learning in python:\n",
    "from sklearn.model_selection import train_test_split \n",
    "from sklearn.linear_model import LogisticRegression\n",
    "from sklearn.datasets import make_classification\n",
    "from matplotlib import pyplot"
   ]
  },
  {
   "cell_type": "code",
   "execution_count": 11,
   "metadata": {},
   "outputs": [
    {
     "name": "stderr",
     "output_type": "stream",
     "text": [
      "C:\\Users\\USER\\anaconda3\\lib\\site-packages\\sklearn\\linear_model\\_logistic.py:765: ConvergenceWarning: lbfgs failed to converge (status=1):\n",
      "STOP: TOTAL NO. of ITERATIONS REACHED LIMIT.\n",
      "\n",
      "Increase the number of iterations (max_iter) or scale the data as shown in:\n",
      "    https://scikit-learn.org/stable/modules/preprocessing.html\n",
      "Please also refer to the documentation for alternative solver options:\n",
      "    https://scikit-learn.org/stable/modules/linear_model.html#logistic-regression\n",
      "  extra_warning_msg=_LOGISTIC_SOLVER_CONVERGENCE_MSG)\n"
     ]
    },
    {
     "data": {
      "text/plain": [
       "LogisticRegression()"
      ]
     },
     "execution_count": 11,
     "metadata": {},
     "output_type": "execute_result"
    }
   ],
   "source": [
    "logre = LogisticRegression()\n",
    "logre.fit(X, y)"
   ]
  },
  {
   "cell_type": "code",
   "execution_count": 12,
   "metadata": {},
   "outputs": [
    {
     "name": "stdout",
     "output_type": "stream",
     "text": [
      "Prediction: [1.]\n"
     ]
    }
   ],
   "source": [
    "# using arbitary numbers for prediction\n",
    "test_point = [[44.6,10.3,5.2,3.9,6.7,2.9,2.3,0.9,1.7,5.2,1.1]]\n",
    "y_pred = logre.predict(np.array(test_point))\n",
    "print('Prediction:', y_pred)"
   ]
  },
  {
   "cell_type": "code",
   "execution_count": 13,
   "metadata": {},
   "outputs": [
    {
     "name": "stdout",
     "output_type": "stream",
     "text": [
      "Our Accuracy is 0.71\n"
     ]
    }
   ],
   "source": [
    "print('Our Accuracy is %.2f' % logre.score(X, y))"
   ]
  },
  {
   "cell_type": "code",
   "execution_count": 14,
   "metadata": {},
   "outputs": [
    {
     "name": "stdout",
     "output_type": "stream",
     "text": [
      "Number of mislabeled points out of a total 1340 points : 390\n"
     ]
    }
   ],
   "source": [
    "print('Number of mislabeled points out of a total %d points : %d'% (X.shape[0], (y != logre.predict(X)).sum()))"
   ]
  },
  {
   "cell_type": "markdown",
   "metadata": {},
   "source": [
    "## Inclusion of many features"
   ]
  },
  {
   "cell_type": "code",
   "execution_count": 15,
   "metadata": {},
   "outputs": [],
   "source": [
    "\n",
    "# remove unwanted features\n",
    "nba_rookie_data=nba_rookie_data.drop(columns=['3 Point Percent','Name'])"
   ]
  },
  {
   "cell_type": "code",
   "execution_count": 16,
   "metadata": {},
   "outputs": [],
   "source": [
    "#nba_rookie_data.head()"
   ]
  },
  {
   "cell_type": "code",
   "execution_count": 17,
   "metadata": {},
   "outputs": [],
   "source": [
    "X_new= nba_rookie_data.values[:,0:18]\n",
    "y_new =nba_rookie_data.values[:,18]"
   ]
  },
  {
   "cell_type": "code",
   "execution_count": 18,
   "metadata": {},
   "outputs": [
    {
     "name": "stderr",
     "output_type": "stream",
     "text": [
      "C:\\Users\\USER\\anaconda3\\lib\\site-packages\\sklearn\\linear_model\\_logistic.py:765: ConvergenceWarning: lbfgs failed to converge (status=1):\n",
      "STOP: TOTAL NO. of ITERATIONS REACHED LIMIT.\n",
      "\n",
      "Increase the number of iterations (max_iter) or scale the data as shown in:\n",
      "    https://scikit-learn.org/stable/modules/preprocessing.html\n",
      "Please also refer to the documentation for alternative solver options:\n",
      "    https://scikit-learn.org/stable/modules/linear_model.html#logistic-regression\n",
      "  extra_warning_msg=_LOGISTIC_SOLVER_CONVERGENCE_MSG)\n"
     ]
    },
    {
     "data": {
      "text/plain": [
       "LogisticRegression()"
      ]
     },
     "execution_count": 18,
     "metadata": {},
     "output_type": "execute_result"
    }
   ],
   "source": [
    "logre = LogisticRegression()\n",
    "logre.fit(X_new, y_new)"
   ]
  },
  {
   "cell_type": "code",
   "execution_count": 19,
   "metadata": {},
   "outputs": [
    {
     "name": "stdout",
     "output_type": "stream",
     "text": [
      "Prediction: [1.]\n"
     ]
    }
   ],
   "source": [
    "# using Arbitary numbers for prediction\n",
    "test_point = [[74.4,21.6,8.8,4.6,7.8,46.1,0.6,0.9,3.2,3.8,88.3,3.1,4.3,5.3,3.5,0.9,0.6,3.2]]\n",
    "y_new_pred = logre.predict(np.array(test_point))\n",
    "print('Prediction:', y_new_pred)"
   ]
  },
  {
   "cell_type": "code",
   "execution_count": 20,
   "metadata": {},
   "outputs": [
    {
     "name": "stdout",
     "output_type": "stream",
     "text": [
      "Our Accuracy is 0.71\n"
     ]
    }
   ],
   "source": [
    "print('Our Accuracy is %.2f' % logre.score(X_new, y_new))"
   ]
  },
  {
   "cell_type": "code",
   "execution_count": 21,
   "metadata": {},
   "outputs": [
    {
     "name": "stdout",
     "output_type": "stream",
     "text": [
      "Number of mislabeled points out of a total 1340 points : 384\n"
     ]
    }
   ],
   "source": [
    "print('Number of mislabeled points out of a total %d points : %d'% (X_new.shape[0], (y_new != logre.predict(X_new)).sum()))"
   ]
  },
  {
   "cell_type": "markdown",
   "metadata": {},
   "source": [
    "## Gaussian Naive Bayes Model"
   ]
  },
  {
   "cell_type": "code",
   "execution_count": 22,
   "metadata": {},
   "outputs": [],
   "source": [
    "# sklearn package for machine learning in python:\n",
    "from sklearn.naive_bayes import GaussianNB\n",
    "from sklearn.datasets import make_classification\n",
    "from sklearn.preprocessing import LabelEncoder"
   ]
  },
  {
   "cell_type": "code",
   "execution_count": 23,
   "metadata": {},
   "outputs": [
    {
     "data": {
      "text/plain": [
       "GaussianNB()"
      ]
     },
     "execution_count": 23,
     "metadata": {},
     "output_type": "execute_result"
    }
   ],
   "source": [
    "gnb = GaussianNB()\n",
    "gnb.fit(X, y)"
   ]
  },
  {
   "cell_type": "code",
   "execution_count": 24,
   "metadata": {},
   "outputs": [
    {
     "name": "stdout",
     "output_type": "stream",
     "text": [
      "Predict a value 1:\n"
     ]
    }
   ],
   "source": [
    "print('Predict a value %d:' % gnb.predict([[44.6,10.3,5.2,3.9,6.7,2.9,2.3,0.9,1.7,5.2,1.1]]))"
   ]
  },
  {
   "cell_type": "code",
   "execution_count": 25,
   "metadata": {},
   "outputs": [
    {
     "name": "stdout",
     "output_type": "stream",
     "text": [
      "Our Accuracy is 0.62\n"
     ]
    }
   ],
   "source": [
    "print('Our Accuracy is %.2f' % gnb.score(X, y))"
   ]
  },
  {
   "cell_type": "code",
   "execution_count": 26,
   "metadata": {},
   "outputs": [
    {
     "name": "stdout",
     "output_type": "stream",
     "text": [
      "Number of mislabeled points out of a total 1340 points : 506\n"
     ]
    }
   ],
   "source": [
    "print('Number of mislabeled points out of a total %d points : %d'% (X.shape[0], (y != gnb.predict(X)).sum()))"
   ]
  },
  {
   "cell_type": "markdown",
   "metadata": {},
   "source": [
    "## With Many Features"
   ]
  },
  {
   "cell_type": "code",
   "execution_count": 27,
   "metadata": {},
   "outputs": [
    {
     "data": {
      "text/plain": [
       "GaussianNB()"
      ]
     },
     "execution_count": 27,
     "metadata": {},
     "output_type": "execute_result"
    }
   ],
   "source": [
    "gnb = GaussianNB()\n",
    "gnb.fit(X_new, y_new)"
   ]
  },
  {
   "cell_type": "code",
   "execution_count": 28,
   "metadata": {},
   "outputs": [
    {
     "name": "stdout",
     "output_type": "stream",
     "text": [
      "Predict a value 1:\n"
     ]
    }
   ],
   "source": [
    "print('Predict a value %d:' % gnb.predict([[74.4,21.6,8.8,4.6,7.8,46.1,0.6,0.9,3.2,3.8,88.3,3.1,4.3,5.3,3.5,0.9,0.6,3.2]]))"
   ]
  },
  {
   "cell_type": "code",
   "execution_count": 29,
   "metadata": {},
   "outputs": [
    {
     "name": "stdout",
     "output_type": "stream",
     "text": [
      "Our Accuracy is 0.63\n"
     ]
    }
   ],
   "source": [
    "print('Our Accuracy is %.2f' % gnb.score(X_new, y_new))"
   ]
  },
  {
   "cell_type": "code",
   "execution_count": 30,
   "metadata": {},
   "outputs": [
    {
     "name": "stdout",
     "output_type": "stream",
     "text": [
      "Number of mislabeled points out of a total 1340 points : 500\n"
     ]
    }
   ],
   "source": [
    "print('Number of mislabeled points out of a total %d points : %d'% (X_new.shape[0], (y_new != gnb.predict(X_new)).sum()))"
   ]
  },
  {
   "cell_type": "markdown",
   "metadata": {},
   "source": [
    "## Neural Networks Model"
   ]
  },
  {
   "cell_type": "code",
   "execution_count": 31,
   "metadata": {},
   "outputs": [],
   "source": [
    "# sklearn package for machine learning in python:\n",
    "from sklearn.neural_network import MLPClassifier"
   ]
  },
  {
   "cell_type": "code",
   "execution_count": 32,
   "metadata": {},
   "outputs": [],
   "source": [
    "mlp = MLPClassifier(hidden_layer_sizes=(), activation=\"logistic\",random_state=0, max_iter=2000)"
   ]
  },
  {
   "cell_type": "code",
   "execution_count": 33,
   "metadata": {},
   "outputs": [
    {
     "data": {
      "text/plain": [
       "MLPClassifier(activation='logistic', hidden_layer_sizes=(), max_iter=2000,\n",
       "              random_state=0)"
      ]
     },
     "execution_count": 33,
     "metadata": {},
     "output_type": "execute_result"
    }
   ],
   "source": [
    "mlp.fit(X, y)"
   ]
  },
  {
   "cell_type": "code",
   "execution_count": 34,
   "metadata": {},
   "outputs": [
    {
     "name": "stdout",
     "output_type": "stream",
     "text": [
      "Prediction: [1.]\n"
     ]
    }
   ],
   "source": [
    "print('Prediction:', mlp.predict([[44.6,10.3,5.2,3.9,6.7,2.9,2.3,0.9,1.7,5.2,1.1]]))"
   ]
  },
  {
   "cell_type": "code",
   "execution_count": 35,
   "metadata": {},
   "outputs": [
    {
     "name": "stdout",
     "output_type": "stream",
     "text": [
      "Our Accuracy is 0.70\n"
     ]
    }
   ],
   "source": [
    "print('Our Accuracy is %.2f' % mlp.score(X, y))"
   ]
  },
  {
   "cell_type": "code",
   "execution_count": 36,
   "metadata": {},
   "outputs": [
    {
     "name": "stdout",
     "output_type": "stream",
     "text": [
      "Number of mislabeled points out of a total 1340 points : 401\n"
     ]
    }
   ],
   "source": [
    "print('Number of mislabeled points out of a total %d points : %d'% (X.shape[0], (y != mlp.predict(X)).sum()))"
   ]
  },
  {
   "cell_type": "markdown",
   "metadata": {},
   "source": [
    "## With many features"
   ]
  },
  {
   "cell_type": "code",
   "execution_count": 37,
   "metadata": {},
   "outputs": [],
   "source": [
    "mlp = MLPClassifier(hidden_layer_sizes=(), activation=\"logistic\",random_state=0, max_iter=2000)"
   ]
  },
  {
   "cell_type": "code",
   "execution_count": 38,
   "metadata": {},
   "outputs": [
    {
     "data": {
      "text/plain": [
       "MLPClassifier(activation='logistic', hidden_layer_sizes=(), max_iter=2000,\n",
       "              random_state=0)"
      ]
     },
     "execution_count": 38,
     "metadata": {},
     "output_type": "execute_result"
    }
   ],
   "source": [
    "mlp.fit(X_new, y_new)"
   ]
  },
  {
   "cell_type": "code",
   "execution_count": 39,
   "metadata": {},
   "outputs": [
    {
     "name": "stdout",
     "output_type": "stream",
     "text": [
      "Prediction: [1.]\n"
     ]
    }
   ],
   "source": [
    "print('Prediction:', mlp.predict([[74.4,21.6,8.8,4.6,7.8,46.1,0.6,0.9,3.2,3.8,88.3,3.1,4.3,5.3,3.5,0.9,0.6,3.2]]))"
   ]
  },
  {
   "cell_type": "code",
   "execution_count": 40,
   "metadata": {},
   "outputs": [
    {
     "name": "stdout",
     "output_type": "stream",
     "text": [
      "Our Accuracy is 0.71\n"
     ]
    }
   ],
   "source": [
    "print('Our Accuracy is %.2f' % mlp.score(X_new, y_new))"
   ]
  },
  {
   "cell_type": "code",
   "execution_count": 41,
   "metadata": {},
   "outputs": [
    {
     "name": "stdout",
     "output_type": "stream",
     "text": [
      "Number of mislabeled points out of a total 1340 points : 395\n"
     ]
    }
   ],
   "source": [
    "print('Number of mislabeled points out of a total %d points : %d'% (X_new.shape[0], (y_new != mlp.predict(X_new)).sum()))"
   ]
  },
  {
   "cell_type": "markdown",
   "metadata": {},
   "source": [
    "## Visualising the Logistic Regression Model"
   ]
  },
  {
   "cell_type": "code",
   "execution_count": 42,
   "metadata": {},
   "outputs": [],
   "source": [
    "import seaborn as sns\n",
    "%matplotlib inline "
   ]
  },
  {
   "cell_type": "code",
   "execution_count": 44,
   "metadata": {},
   "outputs": [
    {
     "data": {
      "text/plain": [
       "(0, 1.053709835663478)"
      ]
     },
     "execution_count": 44,
     "metadata": {},
     "output_type": "execute_result"
    },
    {
     "data": {
      "image/png": "[encoded data removed]",
      "text/plain": [
       "<Figure size 1440x1296 with 1 Axes>"
      ]
     },
     "metadata": {
      "needs_background": "light"
     },
     "output_type": "display_data"
    }
   ],
   "source": [
    "width = 20\n",
    "height = 18\n",
    "plt.figure(figsize=(width, height))\n",
    "sns.regplot(x=\"Games Played\", y=\"TARGET_5Yrs\", data=nba_rookie_data )\n",
    "plt.ylim(0,)"
   ]
  },
  {
   "cell_type": "code",
   "execution_count": null,
   "metadata": {},
   "outputs": [],
   "source": []
  }
 ],
 "metadata": {
  "kernelspec": {
   "display_name": "Python 3",
   "language": "python",
   "name": "python3"
  },
  "language_info": {
   "codemirror_mode": {
    "name": "ipython",
    "version": 3
   },
   "file_extension": ".py",
   "mimetype": "text/x-python",
   "name": "python",
   "nbconvert_exporter": "python",
   "pygments_lexer": "ipython3",
   "version": "3.7.6"
  }
 },
 "nbformat": 4,
 "nbformat_minor": 4
}
